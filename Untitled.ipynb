{
 "cells": [
  {
   "cell_type": "code",
   "execution_count": 1,
   "id": "202a049c-7193-481f-97ef-a1ca72d931e9",
   "metadata": {},
   "outputs": [],
   "source": [
    "%matplotlib inline\n",
    "\n",
    "from l2cs import Pipeline, render\n",
    "import cv2\n",
    "import torch\n",
    "import matplotlib.pyplot as plt\n",
    "\n",
    "import math\n",
    "\n",
    "\n",
    "gaze_pipeline = Pipeline(\n",
    "    weights='models/L2CSNet_gaze360.pkl',\n",
    "    arch='ResNet50',\n",
    "    # device=torch.device('cpu') # or 'gpu'\n",
    "    device=torch.device('cuda:0') # or 'gpu'\n",
    ")\n",
    "\n",
    "img = cv2.imread('test_image.jpg')"
   ]
  },
  {
   "cell_type": "code",
   "execution_count": 2,
   "id": "f0978b0a",
   "metadata": {},
   "outputs": [
    {
     "data": {
      "text/plain": [
       "True"
      ]
     },
     "execution_count": 2,
     "metadata": {},
     "output_type": "execute_result"
    }
   ],
   "source": [
    "scale = math.pow(0.5, 3)\n",
    "torch.cuda.is_available()"
   ]
  },
  {
   "cell_type": "code",
   "execution_count": 21,
   "id": "8f4b3087-0d2f-459b-90fe-597c22e1ee46",
   "metadata": {},
   "outputs": [
    {
     "name": "stdout",
     "output_type": "stream",
     "text": [
      "[0.09931087] [-0.01987863] [0.99868304]\n",
      "[0.09931087] [-0.01987863] [0.99868304]\n",
      "[0.09931087] [-0.01987863] [0.99868304]\n",
      "[0.09931087] [-0.01987863] [0.99868304]\n",
      "[0.09931087] [-0.01987863] [0.99868304]\n",
      "[0.09931087] [-0.01987863] [0.99868304]\n",
      "[0.09931087] [-0.01987863] [0.99868304]\n",
      "[0.09931087] [-0.01987863] [0.99868304]\n",
      "58.4 ms ± 4.89 ms per loop (mean ± std. dev. of 7 runs, 1 loop each)\n"
     ]
    }
   ],
   "source": [
    "%%timeit\n",
    "frame = cv2.resize(img, (0,0), fx=scale, fy=scale)\n",
    "results = gaze_pipeline.step(frame)"
   ]
  },
  {
   "cell_type": "code",
   "execution_count": 12,
   "id": "e981b355-9041-469b-9ad8-67d994c70236",
   "metadata": {},
   "outputs": [],
   "source": [
    "frame = cv2.resize(img, (0,0), fx=scale, fy=scale)\n",
    "results = gaze_pipeline.step(frame)\n",
    "print(results.pitch, results.yaw, results.scores)\n",
    "rframe = render(frame, results)\n",
    "plt.imshow(rframe)"
   ]
  },
  {
   "cell_type": "code",
   "execution_count": null,
   "id": "66783524-b981-434d-83d6-672b8ca87d3a",
   "metadata": {},
   "outputs": [],
   "source": []
  }
 ],
 "metadata": {
  "kernelspec": {
   "display_name": "Python 3 (ipykernel)",
   "language": "python",
   "name": "python3"
  },
  "language_info": {
   "codemirror_mode": {
    "name": "ipython",
    "version": 3
   },
   "file_extension": ".py",
   "mimetype": "text/x-python",
   "name": "python",
   "nbconvert_exporter": "python",
   "pygments_lexer": "ipython3",
   "version": "3.9.18"
  }
 },
 "nbformat": 4,
 "nbformat_minor": 5
}
